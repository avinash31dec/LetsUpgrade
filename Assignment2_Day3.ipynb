{
  "nbformat": 4,
  "nbformat_minor": 0,
  "metadata": {
    "colab": {
      "name": "Assignment2Day3.ipynb",
      "provenance": []
    },
    "kernelspec": {
      "name": "python3",
      "display_name": "Python 3"
    }
  },
  "cells": [
    {
      "cell_type": "code",
      "metadata": {
        "colab": {
          "base_uri": "https://localhost:8080/"
        },
        "id": "IKaiYveA4CSG",
        "outputId": "087c1957-f090-4732-8bdf-ef2b98141a83"
      },
      "source": [
        "#Program to implement if else concept\r\n",
        "\r\n",
        "alt=int(input(\"Please enter height :\"))"
      ],
      "execution_count": 7,
      "outputs": [
        {
          "output_type": "stream",
          "text": [
            "Please enter height :6000\n"
          ],
          "name": "stdout"
        }
      ]
    },
    {
      "cell_type": "code",
      "metadata": {
        "colab": {
          "base_uri": "https://localhost:8080/"
        },
        "id": "7jZ9yIYx4iSw",
        "outputId": "60988b66-3837-43aa-ef9a-f2f8e646276b"
      },
      "source": [
        "if alt <= 1000 :\r\n",
        "  print(\"Safe to land.\")\r\n",
        "elif alt < 5000 :\r\n",
        "  print(\"Bring down to 1000.\")\r\n",
        "else:\r\n",
        "  print(\"Turn Around.\")"
      ],
      "execution_count": 8,
      "outputs": [
        {
          "output_type": "stream",
          "text": [
            "Turn Around.\n"
          ],
          "name": "stdout"
        }
      ]
    }
  ]
}