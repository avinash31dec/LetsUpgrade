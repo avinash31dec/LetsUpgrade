{
  "nbformat": 4,
  "nbformat_minor": 0,
  "metadata": {
    "colab": {
      "name": "Assignment1 Day2.ipynb",
      "provenance": []
    },
    "kernelspec": {
      "name": "python3",
      "display_name": "Python 3"
    }
  },
  "cells": [
    {
      "cell_type": "code",
      "metadata": {
        "id": "n2bgbfI5Q12T"
      },
      "source": [
        "lst=[\"Ram\",\"Mohan\",1,5,2.5,True]"
      ],
      "execution_count": 16,
      "outputs": []
    },
    {
      "cell_type": "code",
      "metadata": {
        "id": "O3mWnUxMW0mD"
      },
      "source": [
        "lst.append(False)"
      ],
      "execution_count": 17,
      "outputs": []
    },
    {
      "cell_type": "code",
      "metadata": {
        "colab": {
          "base_uri": "https://localhost:8080/"
        },
        "id": "t1bJ-1q9Vw6W",
        "outputId": "b8446e0c-107d-48dc-c593-44303b3505e4"
      },
      "source": [
        "print(lst)"
      ],
      "execution_count": 18,
      "outputs": [
        {
          "output_type": "stream",
          "text": [
            "['Ram', 'Mohan', 1, 5, 2.5, True, False]\n"
          ],
          "name": "stdout"
        }
      ]
    },
    {
      "cell_type": "code",
      "metadata": {
        "id": "2afW157sWL6s"
      },
      "source": [
        "last_ele=lst.pop()"
      ],
      "execution_count": 19,
      "outputs": []
    },
    {
      "cell_type": "code",
      "metadata": {
        "colab": {
          "base_uri": "https://localhost:8080/"
        },
        "id": "5GgZ09O3WUWF",
        "outputId": "2b62150e-6a57-46ac-9588-b6fa96d6f8e4"
      },
      "source": [
        "print(last_ele)"
      ],
      "execution_count": 20,
      "outputs": [
        {
          "output_type": "stream",
          "text": [
            "False\n"
          ],
          "name": "stdout"
        }
      ]
    },
    {
      "cell_type": "code",
      "metadata": {
        "colab": {
          "base_uri": "https://localhost:8080/"
        },
        "id": "pNDMgeiFXAWw",
        "outputId": "f924ed18-d895-494e-8eee-ff262c8f884d"
      },
      "source": [
        "print(lst)"
      ],
      "execution_count": 21,
      "outputs": [
        {
          "output_type": "stream",
          "text": [
            "['Ram', 'Mohan', 1, 5, 2.5, True]\n"
          ],
          "name": "stdout"
        }
      ]
    },
    {
      "cell_type": "code",
      "metadata": {
        "id": "TisrUhk4XISA"
      },
      "source": [
        "lst.insert(2,\"Dhanya\")"
      ],
      "execution_count": 22,
      "outputs": []
    },
    {
      "cell_type": "code",
      "metadata": {
        "colab": {
          "base_uri": "https://localhost:8080/"
        },
        "id": "oBo7IBtVXTq-",
        "outputId": "9600ad0c-1088-4cc3-8ffe-43f89869735e"
      },
      "source": [
        "print(lst)"
      ],
      "execution_count": 23,
      "outputs": [
        {
          "output_type": "stream",
          "text": [
            "['Ram', 'Mohan', 'Dhanya', 1, 5, 2.5, True]\n"
          ],
          "name": "stdout"
        }
      ]
    },
    {
      "cell_type": "code",
      "metadata": {
        "id": "Lq74n0D_XgWb"
      },
      "source": [
        "lst.remove(\"Ram\")"
      ],
      "execution_count": 24,
      "outputs": []
    },
    {
      "cell_type": "markdown",
      "metadata": {
        "id": "4vfuznV2X1xb"
      },
      "source": [
        "print(lst)"
      ]
    },
    {
      "cell_type": "code",
      "metadata": {
        "colab": {
          "base_uri": "https://localhost:8080/"
        },
        "id": "Cuaopy5gYAih",
        "outputId": "0d23d939-7a5d-4bb9-c0d4-0b6a2df1d625"
      },
      "source": [
        "lst.count('Mohan')"
      ],
      "execution_count": 30,
      "outputs": [
        {
          "output_type": "execute_result",
          "data": {
            "text/plain": [
              "1"
            ]
          },
          "metadata": {
            "tags": []
          },
          "execution_count": 30
        }
      ]
    },
    {
      "cell_type": "code",
      "metadata": {
        "id": "68gAxppEYT2t"
      },
      "source": [
        "Dict={\r\n",
        "    'Name':'Avinash',\r\n",
        "    'Age':'30',\r\n",
        "    'DOB':'31-12-1989',\r\n",
        "    'Town':'Patna'\r\n",
        "}\r\n"
      ],
      "execution_count": 36,
      "outputs": []
    },
    {
      "cell_type": "code",
      "metadata": {
        "colab": {
          "base_uri": "https://localhost:8080/"
        },
        "id": "jo4p7SAHZRr2",
        "outputId": "ccd2e53f-bc2d-4985-d32a-d17227c94a73"
      },
      "source": [
        "print(Dict.keys())"
      ],
      "execution_count": 41,
      "outputs": [
        {
          "output_type": "stream",
          "text": [
            "dict_keys(['Name', 'Age', 'DOB', 'Town'])\n"
          ],
          "name": "stdout"
        }
      ]
    },
    {
      "cell_type": "code",
      "metadata": {
        "colab": {
          "base_uri": "https://localhost:8080/"
        },
        "id": "W8XD349GZzC0",
        "outputId": "1d3dcbfe-b2c8-4018-e7c7-571e324c80bf"
      },
      "source": [
        "print(Dict.values())"
      ],
      "execution_count": 42,
      "outputs": [
        {
          "output_type": "stream",
          "text": [
            "dict_values(['Avinash', '30', '31-12-1989', 'Patna'])\n"
          ],
          "name": "stdout"
        }
      ]
    },
    {
      "cell_type": "code",
      "metadata": {
        "colab": {
          "base_uri": "https://localhost:8080/"
        },
        "id": "GsJmKT74Z6Vn",
        "outputId": "05006c0d-13ce-4569-e3db-305b7ef8ac93"
      },
      "source": [
        "print(Dict.get('Name'))"
      ],
      "execution_count": 48,
      "outputs": [
        {
          "output_type": "stream",
          "text": [
            "Avinash\n"
          ],
          "name": "stdout"
        }
      ]
    },
    {
      "cell_type": "code",
      "metadata": {
        "colab": {
          "base_uri": "https://localhost:8080/"
        },
        "id": "sfjrgUhTbF4s",
        "outputId": "03551a8e-46aa-48c4-c692-193596d0a44f"
      },
      "source": [
        "print(Dict.items())"
      ],
      "execution_count": 49,
      "outputs": [
        {
          "output_type": "stream",
          "text": [
            "dict_items([('Name', 'Avinash'), ('Age', '30'), ('DOB', '31-12-1989'), ('Town', 'Patna')])\n"
          ],
          "name": "stdout"
        }
      ]
    },
    {
      "cell_type": "code",
      "metadata": {
        "colab": {
          "base_uri": "https://localhost:8080/"
        },
        "id": "dUp-hZ-ibOP3",
        "outputId": "a6c2bbb8-bfde-4768-ceab-91446e95ed72"
      },
      "source": [
        "Dict.copy()"
      ],
      "execution_count": 52,
      "outputs": [
        {
          "output_type": "execute_result",
          "data": {
            "text/plain": [
              "{'Age': '30', 'DOB': '31-12-1989', 'Name': 'Avinash', 'Town': 'Patna'}"
            ]
          },
          "metadata": {
            "tags": []
          },
          "execution_count": 52
        }
      ]
    },
    {
      "cell_type": "code",
      "metadata": {
        "id": "Xfh6v_0Qbm80"
      },
      "source": [
        "Dict.clear()"
      ],
      "execution_count": 53,
      "outputs": []
    },
    {
      "cell_type": "code",
      "metadata": {
        "colab": {
          "base_uri": "https://localhost:8080/"
        },
        "id": "pNkA7hyxbreo",
        "outputId": "2600316d-f9d1-4eb7-e012-71a3675c1d2f"
      },
      "source": [
        "print(Dict)"
      ],
      "execution_count": 54,
      "outputs": [
        {
          "output_type": "stream",
          "text": [
            "{}\n"
          ],
          "name": "stdout"
        }
      ]
    }
  ]
}